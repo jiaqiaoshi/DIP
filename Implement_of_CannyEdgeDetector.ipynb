{
 "cells": [
  {
   "cell_type": "code",
   "execution_count": 1,
   "metadata": {},
   "outputs": [
    {
     "name": "stdout",
     "output_type": "stream",
     "text": [
      "The shape of original image: (834, 1114)\n"
     ]
    }
   ],
   "source": [
    "import cv2\n",
    "import numpy as np\n",
    "img=cv2.imread(\"image3.tif\",0)\n",
    "height=img.shape[0]\n",
    "width=img.shape[1]\n",
    "print('The shape of original image:',img.shape)\n",
    "cv2.imshow('Original Image',img)\n",
    "\n",
    "# -----step1: Smoothing the Original Image with a n*n Gaussian filter-----------------------------------------\n",
    "sigma=1\n",
    "n=7\n",
    "img_smoothed=cv2.GaussianBlur(img,(n,n),sigma)\n",
    "cv2.imshow('Smoothed Image',img_smoothed)\n",
    "\n",
    "#-------step2: Finding Intensity Gradient of the Smoothed Image------------------------------------------------\n",
    "# 2-1: Calculate the 1st-gradient in x and y direction using Sobel filter\n",
    "Gx = cv2.Sobel(img,cv2.CV_16S,1,0) # get the 1st gradient in X direction \n",
    "absX = cv2.convertScaleAbs(Gx)   # 转回uint8\n",
    "Gy=cv2.Sobel(img,cv2.CV_16S,0,1) # get the 1st gradient in Y direction\n",
    "absY = cv2.convertScaleAbs(Gy) \n",
    "\n",
    "cv2.imshow('Gradient Image in X_direction',absX)\n",
    "cv2.imshow('Gradient Image in Y_direction',absY)\n",
    "# 2-2: Calculte the Maginitude and Angle\n",
    "Mag=np.hypot(absX, absY)\n",
    "Mag = Mag / Mag.max() * 255\n",
    "Mag=np.uint8(Mag)\n",
    "\n",
    "Angle = np.arctan2(absY,absX)\n",
    "cv2.imshow('Gradient Image ',Mag)\n",
    "#-------step3: Non-maximum suppression,to remove false responses to to edge detection.------------------------\n",
    "Img_suppressed= np.copy(Mag)\n",
    "Theta = (Angle/np.pi) * 180 # radian to degree conversion\n",
    "Theta[Theta<0] += 180 # scale in range [0,180] degree\n",
    "# if the value if Mag(x,y) is less than at least one of its two neighbors let Img_suppressed be 0\n",
    "for i in range(1,height-1): \n",
    "    for j in range(1,width-1):\n",
    "        if (Theta[i,j]<=22.5 or Theta[i,j]>157.5): # horizontal orientation\n",
    "            if(Mag[i,j]<=Mag[i,j-1]) or (Mag[i,j]<=Mag[i,j+1]): Img_suppressed[i,j]=0\n",
    "        if (Theta[i,j]>22.5 and Theta[i,j]<=67.5): # -45 degree orientation\n",
    "            if(Mag[i,j]<=Mag[i-1,j+1]) or (Mag[i,j]<=Mag[i+1,j-1]): Img_suppressed[i,j]=0\n",
    "        if (Theta[i,j]>67.5 and Theta[i,j]<=112.5): # Vertical orientation\n",
    "            if(Mag[i,j]<=Mag[i-1,j]) or (Mag[i,j]<=Mag[i+1,j]): Img_suppressed[i,j]=0\n",
    "        if (Theta[i,j]>112.5 and Theta[i,j]<=157.5): # + 45 degree orientation\n",
    "            if(Mag[i,j]<=Mag[i-1,j-1]) and (Mag[i,j]<=Mag[i+1,j+1]): Img_suppressed[i,j]=0\n",
    "cv2.imshow('Suppressed Gradient Image ',Img_suppressed)\n",
    "#-------step4: Double Threshold-------------------------------------------------------------------------------\n",
    "lowthreshold=90\n",
    "highthreshold=150\n",
    "#-------step5: Edge Tracking by Hysteresis.----------------------------------------------------------------\n",
    "edge_final = np.zeros((height,width))\n",
    "for i in range(1,height-1):\n",
    "    for j in range(1,width-1):\n",
    "        if(Img_suppressed[i,j] < lowthreshold):\n",
    "            edge_final[i,j]=0\n",
    "        elif (Img_suppressed[i,j]>highthreshold):\n",
    "            edge_final[i,j]=255 # marked as valid edge\n",
    "        # check 8-connected neighboring pixels\n",
    "        elif(Img_suppressed[i+1,j]>highthreshold or Img_suppressed[i-1,j]>highthreshold or \\\n",
    "             Img_suppressed[i,j-1]>highthreshold or Img_suppressed[i,j+1]>highthreshold or \\\n",
    "             Img_suppressed[i+1,j+1]>highthreshold or Img_suppressed[i-1,j-1]>highthreshold or \\\n",
    "             Img_suppressed[i+1,j-1]>highthreshold or Img_suppressed[i-1,j+1]>highthreshold ):\n",
    "            edge_final[i,j]=255 # marked as valid edge\n",
    "            \n",
    "edge_final = np.uint8(edge_final)               \n",
    "cv2.imshow('The Final Edge Image ',edge_final)            \n",
    "\n",
    "k = cv2.waitKey(0)\n",
    "if k == 27:\n",
    "    cv2.destroyAllWindows()"
   ]
  },
  {
   "cell_type": "code",
   "execution_count": 2,
   "metadata": {},
   "outputs": [
    {
     "data": {
      "text/plain": [
       "numpy.ndarray"
      ]
     },
     "execution_count": 2,
     "metadata": {},
     "output_type": "execute_result"
    }
   ],
   "source": [
    "type(Theta)"
   ]
  },
  {
   "cell_type": "code",
   "execution_count": 3,
   "metadata": {},
   "outputs": [
    {
     "data": {
      "text/plain": [
       "dtype('float16')"
      ]
     },
     "execution_count": 3,
     "metadata": {},
     "output_type": "execute_result"
    }
   ],
   "source": [
    "Theta.dtype"
   ]
  },
  {
   "cell_type": "code",
   "execution_count": 7,
   "metadata": {},
   "outputs": [
    {
     "data": {
      "text/plain": [
       "array([[ 0.  ,  0.  ,  0.  , ...,  0.  ,  0.  ,  0.  ],\n",
       "       [90.  , 82.9 , 80.  , ..., 45.  , 45.  , 90.  ],\n",
       "       [90.  , 45.  , 90.  , ..., 90.  , 71.56, 90.  ],\n",
       "       ...,\n",
       "       [90.  , 65.  , 21.05, ..., 22.73, 26.  , 90.  ],\n",
       "       [90.  , 80.1 , 88.  , ..., 31.8 , 49.44, 90.  ],\n",
       "       [ 0.  ,  0.  ,  0.  , ...,  0.  ,  0.  ,  0.  ]], dtype=float16)"
      ]
     },
     "execution_count": 7,
     "metadata": {},
     "output_type": "execute_result"
    }
   ],
   "source": [
    "Theta"
   ]
  },
  {
   "cell_type": "code",
   "execution_count": 11,
   "metadata": {},
   "outputs": [
    {
     "data": {
      "text/plain": [
       "1.57"
      ]
     },
     "execution_count": 11,
     "metadata": {},
     "output_type": "execute_result"
    }
   ],
   "source": [
    "Angle.max()"
   ]
  },
  {
   "cell_type": "code",
   "execution_count": null,
   "metadata": {},
   "outputs": [],
   "source": []
  }
 ],
 "metadata": {
  "kernelspec": {
   "display_name": "Python 3",
   "language": "python",
   "name": "python3"
  },
  "language_info": {
   "codemirror_mode": {
    "name": "ipython",
    "version": 3
   },
   "file_extension": ".py",
   "mimetype": "text/x-python",
   "name": "python",
   "nbconvert_exporter": "python",
   "pygments_lexer": "ipython3",
   "version": "3.6.5"
  }
 },
 "nbformat": 4,
 "nbformat_minor": 2
}
